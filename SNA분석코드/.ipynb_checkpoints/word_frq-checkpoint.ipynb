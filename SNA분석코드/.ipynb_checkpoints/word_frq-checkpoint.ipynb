{
 "cells": [
  {
   "cell_type": "markdown",
   "metadata": {},
   "source": [
    "# Word count (collection frequency)"
   ]
  },
  {
   "cell_type": "code",
   "execution_count": 2,
   "metadata": {},
   "outputs": [
    {
     "name": "stdout",
     "output_type": "stream",
     "text": [
      "# of unique words:  12307\n"
     ]
    }
   ],
   "source": [
    "# word count (collection frequency)\n",
    "\n",
    "import operator\n",
    "\n",
    "\n",
    "word_dic = {}\n",
    "def word_count(text):\n",
    "    words = text.strip().split(' ')\n",
    "    for w in words:\n",
    "        if w in word_dic:\n",
    "            word_dic[w] = word_dic[w] + 1\n",
    "        else:\n",
    "            word_dic[w] = 1\n",
    "\n",
    "            \n",
    "\n",
    "# input file\n",
    "f = open('konlpy_output4.txt', 'r', encoding='utf-8') #형태소분석한 파일\n",
    "\n",
    "# output file\n",
    "output = open(\"frq_그리스.txt\", 'w', encoding='utf-8')\n",
    "\n",
    "for text in f.readlines():\n",
    "    #단어가 있는 column 지정\n",
    "    word_count(text.split('\\t')[1])\n",
    "    \n",
    "'''\n",
    "for k in word_dic.keys():\n",
    "    print(k)\n",
    "'''\n",
    "\n",
    "sorted_value = sorted(word_dic.items(), key=operator.itemgetter(1), reverse=True)\n",
    "for i in range(len(sorted_value)):\n",
    "    #print(sorted_value[i])\n",
    "    output.write('{}\\t{}\\n'.format(sorted_value[i][0], sorted_value[i][1]))\n",
    "\n",
    "print(\"# of unique words: \", len(sorted_value))\n",
    "\n",
    "f.close()\n",
    "output.close()"
   ]
  },
  {
   "cell_type": "code",
   "execution_count": null,
   "metadata": {},
   "outputs": [],
   "source": []
  }
 ],
 "metadata": {
  "kernelspec": {
   "display_name": "Python 3",
   "language": "python",
   "name": "python3"
  },
  "language_info": {
   "codemirror_mode": {
    "name": "ipython",
    "version": 3
   },
   "file_extension": ".py",
   "mimetype": "text/x-python",
   "name": "python",
   "nbconvert_exporter": "python",
   "pygments_lexer": "ipython3",
   "version": "3.7.0"
  }
 },
 "nbformat": 4,
 "nbformat_minor": 2
}
